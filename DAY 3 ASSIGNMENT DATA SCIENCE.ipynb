{
 "cells": [
  {
   "cell_type": "markdown",
   "metadata": {},
   "source": [
    "1.Create a numpy array starting from 2 till 50 with a stepsize of 3."
   ]
  },
  {
   "cell_type": "code",
   "execution_count": 2,
   "metadata": {},
   "outputs": [
    {
     "data": {
      "text/plain": [
       "array([ 2,  5,  8, 11, 14, 17, 20, 23, 26, 29, 32, 35, 38, 41, 44, 47])"
      ]
     },
     "execution_count": 2,
     "metadata": {},
     "output_type": "execute_result"
    }
   ],
   "source": [
    "import numpy as np\n",
    "np.arange(start=2, stop=50, step=3)"
   ]
  },
  {
   "cell_type": "markdown",
   "metadata": {},
   "source": [
    "2.Accept two lists of 5 elements each from the user.\n",
    "Convert them to numpy arrays. Concatenate these arrays and print it. Also sort these arrays and print it."
   ]
  },
  {
   "cell_type": "code",
   "execution_count": 4,
   "metadata": {},
   "outputs": [
    {
     "name": "stdout",
     "output_type": "stream",
     "text": [
      "enter firts list\n",
      "1\n",
      "247\n",
      "5\n",
      "7\n",
      "4\n",
      "enter the second list\n",
      "4\n",
      "7\n",
      "5\n",
      "8\n",
      "6\n",
      "two list are:\n",
      "[1, 247, 5, 7, 4]\n",
      "[4, 7, 5, 8, 6]\n",
      "converted numpy array are\n",
      "first numoy array is\n",
      "[  1 247   5   7   4]\n",
      "second numoy array is\n",
      "[4 7 5 8 6]\n",
      "concatenate the two arrays\n",
      "[  1 247   5   7   4   4   7   5   8   6]\n",
      "sorting numpy arrays\n",
      "return type :  None\n",
      "sorting numpy arrays :  [  1   4   4   5   5   6   7   7   8 247]\n"
     ]
    }
   ],
   "source": [
    "a=[]\n",
    "print(\"enter firts list\")\n",
    "for i in range(0,5):\n",
    "    ele=int(input())\n",
    "    a.append(ele)\n",
    "print(\"enter the second list\")\n",
    "b=[]\n",
    "for i in range(0,5):\n",
    "    ele=int(input())\n",
    "    b.append(ele)\n",
    "print(\"two list are:\")\n",
    "print(a)\n",
    "print(b)\n",
    "import numpy as np\n",
    "print(\"converted numpy array are\")\n",
    "arr1=np.array(a)\n",
    "arr2=np.array(b)\n",
    "print(\"first numoy array is\")\n",
    "print(arr1)\n",
    "print(\"second numoy array is\")\n",
    "print(arr2)\n",
    "c=np.concatenate((arr1, arr2), axis = 0) \n",
    "print(\"concatenate the two arrays\")\n",
    "print(c)\n",
    "print(\"sorting numpy arrays\") \n",
    "print(\"return type : \",c.sort())\n",
    "print(\"sorting numpy arrays : \",c) "
   ]
  },
  {
   "cell_type": "markdown",
   "metadata": {},
   "source": [
    "3.Write a code snippet to find the dimensions of a ndarray and its size."
   ]
  },
  {
   "cell_type": "code",
   "execution_count": 3,
   "metadata": {},
   "outputs": [
    {
     "name": "stdout",
     "output_type": "stream",
     "text": [
      "Array is of type:  <class 'numpy.ndarray'>\n",
      "No. of dimensions:  2\n",
      "Shape of array:  (2, 3)\n",
      "Size of array:  6\n",
      "Array stores elements of type:  int32\n"
     ]
    }
   ],
   "source": [
    "\n",
    "import numpy as np\n",
    " \n",
    "\n",
    "arr = np.array( [[ 1, 2, 3],\n",
    "                 [ 4, 2, 5]] )\n",
    " \n",
    "\n",
    "print(\"Array is of type: \", type(arr))\n",
    " \n",
    "\n",
    "print(\"No. of dimensions: \", arr.ndim)\n",
    " \n",
    "\n",
    "print(\"Shape of array: \", arr.shape)\n",
    " \n",
    "\n",
    "print(\"Size of array: \", arr.size)\n",
    " \n",
    "\n",
    "print(\"Array stores elements of type: \", arr.dtype)"
   ]
  },
  {
   "cell_type": "markdown",
   "metadata": {},
   "source": [
    "4.How to convert a 1D array into a 2D array? Demonstrate with the help of a code snippet\n",
    "Hint: np.newaxis, np.expand_dims"
   ]
  },
  {
   "cell_type": "code",
   "execution_count": 12,
   "metadata": {},
   "outputs": [
    {
     "data": {
      "text/plain": [
       "(1, 2, 2)"
      ]
     },
     "execution_count": 12,
     "metadata": {},
     "output_type": "execute_result"
    }
   ],
   "source": [
    "import numpy as np \n",
    "\n",
    "arr=np.arange(4).reshape(2,2)\n",
    "arr.shape\n",
    "arr_2D=arr[np.newaxis]\n",
    "arr_2D.shape"
   ]
  },
  {
   "cell_type": "markdown",
   "metadata": {},
   "source": [
    "5.Consider two square numpy arrays. Stack them vertically and horizontally.\n",
    "Hint: Use vstack(), hstack()"
   ]
  },
  {
   "cell_type": "code",
   "execution_count": 2,
   "metadata": {},
   "outputs": [
    {
     "name": "stdout",
     "output_type": "stream",
     "text": [
      "Square Value of arr1 : \n",
      " [     1      9    225 217156]\n",
      "\n",
      "Square Value of arr2 :  [ 1  4  9 16]\n",
      "[[   1   -3   15 -466]\n",
      " [   1    2    3    4]]\n",
      "[   1   -3   15 -466    1    2    3    4]\n"
     ]
    }
   ],
   "source": [
    "\n",
    "import numpy as np \n",
    "\n",
    "arr1 = [1, -3, 15, -466] \n",
    "print (\"Square Value of arr1 : \\n\", np.square(arr1)) \n",
    "\n",
    "arr2 = [1,2,3,4] \n",
    "print (\"\\nSquare Value of arr2 : \", np.square(arr2)) \n",
    "c=np.vstack((arr1,arr2))\n",
    "print(c)\n",
    "d=np.hstack((arr1,arr2))\n",
    "print(d)\n"
   ]
  },
  {
   "cell_type": "markdown",
   "metadata": {},
   "source": [
    "6.How to get unique items and counts of unique items?"
   ]
  },
  {
   "cell_type": "code",
   "execution_count": 3,
   "metadata": {},
   "outputs": [
    {
     "name": "stdout",
     "output_type": "stream",
     "text": [
      "No of unique items are: 5\n"
     ]
    }
   ],
   "source": [
    "# taking an input list \n",
    "input_list = [1, 2, 2, 5, 8, 4, 4, 8] \n",
    "\n",
    "# taking an input list \n",
    "l1 = [] \n",
    "\n",
    "# taking an counter \n",
    "count = 0\n",
    "\n",
    "# travesing the array \n",
    "for item in input_list: \n",
    "\tif item not in l1: \n",
    "\t\tcount += 1\n",
    "\t\tl1.append(item) \n",
    "\n",
    "# printing the output \n",
    "print(\"No of unique items are:\", count) \n"
   ]
  },
  {
   "cell_type": "code",
   "execution_count": null,
   "metadata": {},
   "outputs": [],
   "source": []
  }
 ],
 "metadata": {
  "kernelspec": {
   "display_name": "Python 3",
   "language": "python",
   "name": "python3"
  },
  "language_info": {
   "codemirror_mode": {
    "name": "ipython",
    "version": 3
   },
   "file_extension": ".py",
   "mimetype": "text/x-python",
   "name": "python",
   "nbconvert_exporter": "python",
   "pygments_lexer": "ipython3",
   "version": "3.8.3"
  }
 },
 "nbformat": 4,
 "nbformat_minor": 4
}
